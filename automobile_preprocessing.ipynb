{
 "cells": [
  {
   "cell_type": "markdown",
   "metadata": {},
   "source": [
    "Text Preprocessing\n",
    "\n",
    "tokenization (nltk) \\\n",
    "normalization\n",
    "- remove HTML tags   v\n",
    "- remove extra whitespaces  v\n",
    "- remove punctuations v\n",
    "- lower casing\n",
    "- convert accented characters to ASCII characters\n",
    "- expand contractions\n",
    "- remove special characters\n",
    "- convert number words to numeric form and then remove all\n",
    "- stopwords removal\n",
    "- stemming\n",
    "- Lemmatization"
   ]
  },
  {
   "cell_type": "code",
   "execution_count": 1,
   "metadata": {
    "scrolled": true
   },
   "outputs": [],
   "source": [
    "from bs4 import BeautifulSoup\n",
    "import string\n",
    "import unidecode\n",
    "import spacy\n",
    "from word2number import w2n\n",
    "import gensim.downloader as api\n",
    "import re\n",
    "\n",
    "import pandas as pd"
   ]
  },
  {
   "cell_type": "code",
   "execution_count": 2,
   "metadata": {},
   "outputs": [],
   "source": [
    "import en_core_web_sm\n",
    "nlp = en_core_web_sm.load()"
   ]
  },
  {
   "cell_type": "code",
   "execution_count": 3,
   "metadata": {},
   "outputs": [],
   "source": [
    "def strip_html_tags(text):\n",
    "    \"\"\"remove html tags from text\"\"\"\n",
    "    stripped_text = re.sub(r'http\\S+', '', text)\n",
    "    return stripped_text\n",
    "\n",
    "def strip_punctuations(text):\n",
    "    \"\"\"remove punctuations from text\"\"\"\n",
    "    stripped_text = text.translate(str.maketrans('', '', string.punctuation))\n",
    "    return stripped_text\n",
    "\n",
    "def strip_whitespace(text):\n",
    "    '''remove extra whitespaces'''\n",
    "    stripped_text = text.strip()\n",
    "    return \" \".join(stripped_text.split())\n",
    "\n",
    "def remove_accented_chars(text):\n",
    "    \"\"\"remove accented characters from text, e.g. café\"\"\"  # important since i found most quotation marks are not in ASCII characters\n",
    "    text = unidecode.unidecode(text)\n",
    "    return text\n",
    "\n",
    "def decontracted(phrase):\n",
    "    '''expand contractions'''\n",
    "    # specific\n",
    "    phrase = re.sub(r\"won\\'t\", \"will not\", phrase)\n",
    "    phrase = re.sub(r\"can\\'t\", \"can not\", phrase)\n",
    "\n",
    "    # general\n",
    "    phrase = re.sub(r\"n\\'t\", \" not\", phrase)\n",
    "    phrase = re.sub(r\"\\'re\", \" are\", phrase)\n",
    "    phrase = re.sub(r\"\\'s\", \" is\", phrase)\n",
    "    phrase = re.sub(r\"\\'d\", \" would\", phrase)\n",
    "    phrase = re.sub(r\"\\'ll\", \" will\", phrase)\n",
    "    phrase = re.sub(r\"\\'t\", \" not\", phrase)\n",
    "    phrase = re.sub(r\"\\'ve\", \" have\", phrase)\n",
    "    phrase = re.sub(r\"\\'m\", \" am\", phrase)\n",
    "    return phrase\n",
    "\n",
    "# exclude words from spacy stopwords list\n",
    "deselect_stop_words = ['no', 'not','never','without']\n",
    "for w in deselect_stop_words:\n",
    "    nlp.vocab[w].is_stop = False"
   ]
  },
  {
   "cell_type": "code",
   "execution_count": 4,
   "metadata": {},
   "outputs": [],
   "source": [
    "def text_preprocessing(text, accented_chars=True, contractions=True, \n",
    "                       convert_num=True, extra_whitespace=True, \n",
    "                       lemmatization=True, lowercase=True, punctuations=True,\n",
    "                       remove_html=True, remove_num=True, special_chars=True, \n",
    "                       stop_words=True):\n",
    "    \"\"\"preprocess text with default option set to true for all steps\"\"\"\n",
    "    if accented_chars == True: #remove accented characters\n",
    "        text = remove_accented_chars(text)\n",
    "    if remove_html == True: #remove html tags\n",
    "        text = strip_html_tags(text)\n",
    "    if extra_whitespace == True: #remove extra whitespaces\n",
    "        text = strip_whitespace(text)\n",
    "    if contractions == True: #expand contractions\n",
    "        text = decontracted(text)\n",
    "    if lowercase == True: #convert all characters to lowercase\n",
    "        text = text.lower()\n",
    "    if punctuations == True: # remove punctuations\n",
    "        text = strip_punctuations(text)\n",
    "\n",
    "    doc = nlp(text) #tokenise text\n",
    "\n",
    "    clean_text = []\n",
    "    \n",
    "    for token in doc:\n",
    "        flag = True\n",
    "        edit = token.text\n",
    "        # remove stop words\n",
    "        if stop_words == True and token.is_stop and token.pos_ != 'NUM': \n",
    "            flag = False\n",
    "        # remove punctuations\n",
    "        if punctuations == True and token.pos_ == 'PUNCT' and flag == True: \n",
    "            flag = False\n",
    "        # remove special characters\n",
    "        if special_chars == True and token.pos_ == 'SYM' and flag == True: \n",
    "            flag = False\n",
    "        # remove numbers\n",
    "        if remove_num == True and (token.pos_ == 'NUM' or token.text.isnumeric()) \\\n",
    "        and flag == True:\n",
    "            flag = False\n",
    "        # convert number words to numeric numbers\n",
    "        if convert_num == True and token.pos_ == 'NUM' and flag == True:\n",
    "            edit = w2n.word_to_num(token.text)\n",
    "        # convert tokens to base form\n",
    "        elif lemmatization == True and token.lemma_ != \"-PRON-\" and flag == True:\n",
    "            edit = token.lemma_\n",
    "        # append tokens edited and not removed to list \n",
    "        if edit != \"\" and flag == True:\n",
    "            clean_text.append(edit)\n",
    "        # basically I want to use R to do the token again\n",
    "        join_text = ' '.join(clean_text)\n",
    "    return join_text"
   ]
  },
  {
   "cell_type": "code",
   "execution_count": 23,
   "metadata": {},
   "outputs": [],
   "source": [
    "gm_tweets = pd.read_csv('gm_tweets.csv')\n",
    "gm_text = gm_tweets.text"
   ]
  },
  {
   "cell_type": "code",
   "execution_count": 25,
   "metadata": {
    "scrolled": true
   },
   "outputs": [],
   "source": [
    "# gm text preprocessing\n",
    "new_text = []\n",
    "for text in range(len(gm_text)):\n",
    "    new_text.append(text_preprocessing(gm_text[text]))"
   ]
  },
  {
   "cell_type": "code",
   "execution_count": 26,
   "metadata": {},
   "outputs": [],
   "source": [
    "pre_gm = pd.Series( (text for text in new_text ) )"
   ]
  },
  {
   "cell_type": "code",
   "execution_count": 27,
   "metadata": {},
   "outputs": [
    {
     "data": {
      "text/html": [
       "<div>\n",
       "<style scoped>\n",
       "    .dataframe tbody tr th:only-of-type {\n",
       "        vertical-align: middle;\n",
       "    }\n",
       "\n",
       "    .dataframe tbody tr th {\n",
       "        vertical-align: top;\n",
       "    }\n",
       "\n",
       "    .dataframe thead th {\n",
       "        text-align: right;\n",
       "    }\n",
       "</style>\n",
       "<table border=\"1\" class=\"dataframe\">\n",
       "  <thead>\n",
       "    <tr style=\"text-align: right;\">\n",
       "      <th></th>\n",
       "      <th>status_id</th>\n",
       "      <th>edited_text</th>\n",
       "    </tr>\n",
       "  </thead>\n",
       "  <tbody>\n",
       "    <tr>\n",
       "      <td>0</td>\n",
       "      <td>x1277316716595470337</td>\n",
       "      <td>cheslie40670812 frankdangelo23 realdonaldtrump...</td>\n",
       "    </tr>\n",
       "    <tr>\n",
       "      <td>1</td>\n",
       "      <td>x1277314327457017857</td>\n",
       "      <td>general motors tease future cadillac lyriq ev ...</td>\n",
       "    </tr>\n",
       "    <tr>\n",
       "      <td>2</td>\n",
       "      <td>x1277311004398018561</td>\n",
       "      <td>general motors co gm surprise market q3 result...</td>\n",
       "    </tr>\n",
       "    <tr>\n",
       "      <td>3</td>\n",
       "      <td>x1274771791576252417</td>\n",
       "      <td>general motors co gm surprise market q4 result...</td>\n",
       "    </tr>\n",
       "    <tr>\n",
       "      <td>4</td>\n",
       "      <td>x1274593345986273281</td>\n",
       "      <td>general motors co gm surprise market q3 result...</td>\n",
       "    </tr>\n",
       "    <tr>\n",
       "      <td>...</td>\n",
       "      <td>...</td>\n",
       "      <td>...</td>\n",
       "    </tr>\n",
       "    <tr>\n",
       "      <td>1798</td>\n",
       "      <td>x1274286545160286209</td>\n",
       "      <td>gm shit greedyarse leave flint add death climb...</td>\n",
       "    </tr>\n",
       "    <tr>\n",
       "      <td>1799</td>\n",
       "      <td>x1274286545160286209</td>\n",
       "      <td>gm shit greedyarse leave flint add death climb...</td>\n",
       "    </tr>\n",
       "    <tr>\n",
       "      <td>1800</td>\n",
       "      <td>x1274285185882828801</td>\n",
       "      <td>ohio official lordstown shuttering violate sta...</td>\n",
       "    </tr>\n",
       "    <tr>\n",
       "      <td>1801</td>\n",
       "      <td>x1274264648607584256</td>\n",
       "      <td>ok gmc gm go order new gmc acadia at4 configur...</td>\n",
       "    </tr>\n",
       "    <tr>\n",
       "      <td>1802</td>\n",
       "      <td>x1274264648607584256</td>\n",
       "      <td>ok gmc gm go order new gmc acadia at4 configur...</td>\n",
       "    </tr>\n",
       "  </tbody>\n",
       "</table>\n",
       "<p>1803 rows × 2 columns</p>\n",
       "</div>"
      ],
      "text/plain": [
       "                 status_id                                        edited_text\n",
       "0     x1277316716595470337  cheslie40670812 frankdangelo23 realdonaldtrump...\n",
       "1     x1277314327457017857  general motors tease future cadillac lyriq ev ...\n",
       "2     x1277311004398018561  general motors co gm surprise market q3 result...\n",
       "3     x1274771791576252417  general motors co gm surprise market q4 result...\n",
       "4     x1274593345986273281  general motors co gm surprise market q3 result...\n",
       "...                    ...                                                ...\n",
       "1798  x1274286545160286209  gm shit greedyarse leave flint add death climb...\n",
       "1799  x1274286545160286209  gm shit greedyarse leave flint add death climb...\n",
       "1800  x1274285185882828801  ohio official lordstown shuttering violate sta...\n",
       "1801  x1274264648607584256  ok gmc gm go order new gmc acadia at4 configur...\n",
       "1802  x1274264648607584256  ok gmc gm go order new gmc acadia at4 configur...\n",
       "\n",
       "[1803 rows x 2 columns]"
      ]
     },
     "execution_count": 27,
     "metadata": {},
     "output_type": "execute_result"
    }
   ],
   "source": [
    "gm = pd.concat([gm_tweets.status_id, pre_gm], axis=1, ignore_index=True)\n",
    "gm.rename(columns={0: \"status_id\", 1: \"edited_text\"})"
   ]
  },
  {
   "cell_type": "code",
   "execution_count": 28,
   "metadata": {},
   "outputs": [],
   "source": [
    "gm.to_csv('gm_text.csv', index=False)"
   ]
  },
  {
   "cell_type": "code",
   "execution_count": 29,
   "metadata": {},
   "outputs": [],
   "source": [
    "# ford text preprocessing\n",
    "\n",
    "ford_tweets = pd.read_csv('ford_tweets.csv')\n",
    "ford_text = ford_tweets.text"
   ]
  },
  {
   "cell_type": "code",
   "execution_count": 30,
   "metadata": {},
   "outputs": [
    {
     "data": {
      "text/plain": [
       "(7038, 90)"
      ]
     },
     "execution_count": 30,
     "metadata": {},
     "output_type": "execute_result"
    }
   ],
   "source": [
    "ford_tweets.shape"
   ]
  },
  {
   "cell_type": "code",
   "execution_count": 31,
   "metadata": {},
   "outputs": [],
   "source": [
    "ford_new_text = []\n",
    "for text in range(len(ford_text)):\n",
    "    ford_new_text.append(text_preprocessing(ford_text[text]))"
   ]
  },
  {
   "cell_type": "code",
   "execution_count": 32,
   "metadata": {},
   "outputs": [],
   "source": [
    "pre_ford = pd.Series( (text for text in ford_new_text ) )"
   ]
  },
  {
   "cell_type": "code",
   "execution_count": 33,
   "metadata": {
    "scrolled": false
   },
   "outputs": [
    {
     "data": {
      "text/html": [
       "<div>\n",
       "<style scoped>\n",
       "    .dataframe tbody tr th:only-of-type {\n",
       "        vertical-align: middle;\n",
       "    }\n",
       "\n",
       "    .dataframe tbody tr th {\n",
       "        vertical-align: top;\n",
       "    }\n",
       "\n",
       "    .dataframe thead th {\n",
       "        text-align: right;\n",
       "    }\n",
       "</style>\n",
       "<table border=\"1\" class=\"dataframe\">\n",
       "  <thead>\n",
       "    <tr style=\"text-align: right;\">\n",
       "      <th></th>\n",
       "      <th>status_id</th>\n",
       "      <th>edited_text</th>\n",
       "    </tr>\n",
       "  </thead>\n",
       "  <tbody>\n",
       "    <tr>\n",
       "      <td>0</td>\n",
       "      <td>x1277319431388114945</td>\n",
       "      <td>hellllllllllllllll yeahhhhhhhhhhhhhhhhh chaseb...</td>\n",
       "    </tr>\n",
       "    <tr>\n",
       "      <td>1</td>\n",
       "      <td>x1275215156004388865</td>\n",
       "      <td>someeeeeee blaney teampenske ford fordperforma...</td>\n",
       "    </tr>\n",
       "    <tr>\n",
       "      <td>2</td>\n",
       "      <td>x1277318749150777344</td>\n",
       "      <td>tear ford probably rebrand raging antisemite</td>\n",
       "    </tr>\n",
       "    <tr>\n",
       "      <td>3</td>\n",
       "      <td>x1277318473757032449</td>\n",
       "      <td>caranddriver ford want truck photo beefy look ...</td>\n",
       "    </tr>\n",
       "    <tr>\n",
       "      <td>4</td>\n",
       "      <td>x1277318078506958848</td>\n",
       "      <td>love god bless america ford flag</td>\n",
       "    </tr>\n",
       "    <tr>\n",
       "      <td>...</td>\n",
       "      <td>...</td>\n",
       "      <td>...</td>\n",
       "    </tr>\n",
       "    <tr>\n",
       "      <td>7033</td>\n",
       "      <td>x1274259767377051653</td>\n",
       "      <td>coyote 480hp mach1 ford mustang ford mustangma...</td>\n",
       "    </tr>\n",
       "    <tr>\n",
       "      <td>7034</td>\n",
       "      <td>x1274258026606837765</td>\n",
       "      <td>caranddriver ford leave fine tune car</td>\n",
       "    </tr>\n",
       "    <tr>\n",
       "      <td>7035</td>\n",
       "      <td>x1274257423168126976</td>\n",
       "      <td>rockabilly rave seagull model t ntrr2020 segul...</td>\n",
       "    </tr>\n",
       "    <tr>\n",
       "      <td>7036</td>\n",
       "      <td>x1274257423168126976</td>\n",
       "      <td>rockabilly rave seagull model t ntrr2020 segul...</td>\n",
       "    </tr>\n",
       "    <tr>\n",
       "      <td>7037</td>\n",
       "      <td>x1274253714530856961</td>\n",
       "      <td>ford reveal mustang mach know complete detail ...</td>\n",
       "    </tr>\n",
       "  </tbody>\n",
       "</table>\n",
       "<p>7038 rows × 2 columns</p>\n",
       "</div>"
      ],
      "text/plain": [
       "                 status_id                                        edited_text\n",
       "0     x1277319431388114945  hellllllllllllllll yeahhhhhhhhhhhhhhhhh chaseb...\n",
       "1     x1275215156004388865  someeeeeee blaney teampenske ford fordperforma...\n",
       "2     x1277318749150777344       tear ford probably rebrand raging antisemite\n",
       "3     x1277318473757032449  caranddriver ford want truck photo beefy look ...\n",
       "4     x1277318078506958848                   love god bless america ford flag\n",
       "...                    ...                                                ...\n",
       "7033  x1274259767377051653  coyote 480hp mach1 ford mustang ford mustangma...\n",
       "7034  x1274258026606837765              caranddriver ford leave fine tune car\n",
       "7035  x1274257423168126976  rockabilly rave seagull model t ntrr2020 segul...\n",
       "7036  x1274257423168126976  rockabilly rave seagull model t ntrr2020 segul...\n",
       "7037  x1274253714530856961  ford reveal mustang mach know complete detail ...\n",
       "\n",
       "[7038 rows x 2 columns]"
      ]
     },
     "execution_count": 33,
     "metadata": {},
     "output_type": "execute_result"
    }
   ],
   "source": [
    "ford = pd.concat([ford_tweets.status_id, pre_ford], axis=1, ignore_index=True)\n",
    "ford.rename(columns={0: \"status_id\", 1: \"edited_text\"})"
   ]
  },
  {
   "cell_type": "code",
   "execution_count": 34,
   "metadata": {},
   "outputs": [],
   "source": [
    "ford.to_csv('ford_text.csv', index=False)"
   ]
  },
  {
   "cell_type": "code",
   "execution_count": 35,
   "metadata": {},
   "outputs": [],
   "source": [
    "# fca text preprocessing\n",
    "\n",
    "fca_tweets = pd.read_csv('fca_tweets.csv')\n",
    "fca_text = fca_tweets.text"
   ]
  },
  {
   "cell_type": "code",
   "execution_count": 36,
   "metadata": {},
   "outputs": [
    {
     "data": {
      "text/plain": [
       "(9667, 90)"
      ]
     },
     "execution_count": 36,
     "metadata": {},
     "output_type": "execute_result"
    }
   ],
   "source": [
    "fca_tweets.shape"
   ]
  },
  {
   "cell_type": "code",
   "execution_count": null,
   "metadata": {},
   "outputs": [],
   "source": [
    "fca_new_text = []\n",
    "for text in range(len(fca_text)):\n",
    "    fca_new_text.append(text_preprocessing(fca_text[text]))"
   ]
  },
  {
   "cell_type": "code",
   "execution_count": null,
   "metadata": {
    "scrolled": false
   },
   "outputs": [],
   "source": [
    "pre_fca = pd.Series( (text for text in fca_new_text ) )\n",
    "fca = pd.concat([fca_tweets.status_id, pre_fca], axis=1, ignore_index=True)\n",
    "fca.rename(columns={0: \"status_id\", 1: \"edited_text\"})"
   ]
  },
  {
   "cell_type": "code",
   "execution_count": 164,
   "metadata": {},
   "outputs": [],
   "source": [
    "fca.to_csv('fca_text.csv', index=False)"
   ]
  },
  {
   "cell_type": "code",
   "execution_count": null,
   "metadata": {},
   "outputs": [],
   "source": []
  }
 ],
 "metadata": {
  "kernelspec": {
   "display_name": "Python 3",
   "language": "python",
   "name": "python3"
  },
  "language_info": {
   "codemirror_mode": {
    "name": "ipython",
    "version": 3
   },
   "file_extension": ".py",
   "mimetype": "text/x-python",
   "name": "python",
   "nbconvert_exporter": "python",
   "pygments_lexer": "ipython3",
   "version": "3.7.4"
  }
 },
 "nbformat": 4,
 "nbformat_minor": 2
}
